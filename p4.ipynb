{
 "cells": [
  {
   "cell_type": "markdown",
   "source": [
    "# Problem 4: Largest palindrome product\n",
    "\n",
    "<p>A palindromic number reads the same both ways. The largest palindrome made from the product of two $2$-digit numbers is $9009 = 91 \\times 99$.</p>\n",
    "<p>Find the largest palindrome made from the product of two $3$-digit numbers.</p>\n"
   ],
   "metadata": {
    "collapsed": false
   }
  },
  {
   "cell_type": "code",
   "execution_count": 4,
   "metadata": {
    "collapsed": true
   },
   "outputs": [
    {
     "name": "stdout",
     "output_type": "stream",
     "text": [
      "906609\n"
     ]
    }
   ],
   "source": [
    "\n",
    "from helpers import is_palindrome\n",
    "\n",
    "def largest_palindrome_product(n):\n",
    "    largest = 0\n",
    "    # start from the largest n-digit\n",
    "    # end at the smallest n-digit\n",
    "    # decrement by 1\n",
    "    # if the product is less than the largest palindrome found so far, break\n",
    "    for i in range((10**n)-1, (10**(n-1))-1, -1):\n",
    "        for j in range(i, (10**(n-1))-1, -1):\n",
    "            product = i * j\n",
    "            if product < largest:\n",
    "                break\n",
    "            if is_palindrome(str(product)):\n",
    "                largest = product\n",
    "    return largest\n",
    "\n",
    "print(largest_palindrome_product(3))\n"
   ]
  },
  {
   "cell_type": "code",
   "execution_count": 4,
   "outputs": [],
   "source": [],
   "metadata": {
    "collapsed": false
   }
  }
 ],
 "metadata": {
  "kernelspec": {
   "display_name": "Python 3",
   "language": "python",
   "name": "python3"
  },
  "language_info": {
   "codemirror_mode": {
    "name": "ipython",
    "version": 2
   },
   "file_extension": ".py",
   "mimetype": "text/x-python",
   "name": "python",
   "nbconvert_exporter": "python",
   "pygments_lexer": "ipython2",
   "version": "2.7.6"
  }
 },
 "nbformat": 4,
 "nbformat_minor": 0
}
